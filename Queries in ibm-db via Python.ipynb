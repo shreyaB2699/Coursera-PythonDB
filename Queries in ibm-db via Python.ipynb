{
 "cells": [
  {
   "cell_type": "markdown",
   "metadata": {},
   "source": [
    "### Querying via python in ibm-db\n"
   ]
  },
  {
   "cell_type": "code",
   "execution_count": 1,
   "metadata": {},
   "outputs": [],
   "source": [
    "import ibm_db  #Importing ibm_db"
   ]
  },
  {
   "cell_type": "code",
   "execution_count": 2,
   "metadata": {},
   "outputs": [],
   "source": [
    "#Database credentials specification\n",
    "\n",
    "dsn_hostname = 'dashdb-txn-sbox-yp-dal09-08.services.dal.bluemix.net'\n",
    "dsn_uid = 'wqf33423'\n",
    "dsn_pwd = '12ss77pz8z7d@3fj'\n",
    "dsn_driver = '{IBM DB2 ODBC DRIVER}'\n",
    "dsn_database = 'BLUDB'\n",
    "dsn_port = '50000'\n",
    "dsn_protocol = 'TCPIP'"
   ]
  },
  {
   "cell_type": "code",
   "execution_count": 3,
   "metadata": {},
   "outputs": [
    {
     "name": "stdout",
     "output_type": "stream",
     "text": [
      "DRIVER = {IBM DB2 ODBC DRIVER};DATABASE = BLUDB;HOSTNAME = dashdb-txn-sbox-yp-dal09-08.services.dal.bluemix.net;PORT = 50000;PROTOCOL = TCPIP;UID = wqf33423;PWD = 12ss77pz8z7d@3fj;\n",
      "Connected to database:  BLUDB as user:  wqf33423 on host:  dashdb-txn-sbox-yp-dal09-08.services.dal.bluemix.net\n"
     ]
    }
   ],
   "source": [
    "# Specifying dsn string and Creating Database connection\n",
    "\n",
    "dsn = (\n",
    "    'DRIVER = {0};'\n",
    "    'DATABASE = {1};'\n",
    "    'HOSTNAME = {2};'\n",
    "    'PORT = {3};'\n",
    "    'PROTOCOL = {4};'\n",
    "    'UID = {5};'\n",
    "    'PWD = {6};').format(dsn_driver, dsn_database, dsn_hostname, dsn_port, dsn_protocol, dsn_uid, dsn_pwd)\n",
    "\n",
    "print(dsn) #print to check values\n",
    "\n",
    "try:\n",
    "    conn = ibm_db.connect(dsn,\"\",\"\")\n",
    "    print('Connected to database: ',dsn_database, \"as user: \", dsn_uid, \"on host: \", dsn_hostname)\n",
    "except:\n",
    "    print('Unable to connect: ',ibm_db.conn_errormsg())\n"
   ]
  },
  {
   "cell_type": "markdown",
   "metadata": {},
   "source": [
    "### Starting with Queries"
   ]
  },
  {
   "cell_type": "code",
   "execution_count": 24,
   "metadata": {},
   "outputs": [],
   "source": [
    "#drop table query\n",
    "dropQuery = 'DROP TABLE INSTRUCTOR' # Used to drop table if already exists\n",
    "dropStmt = ibm_db.exec_immediate(conn, dropQuery)"
   ]
  },
  {
   "cell_type": "code",
   "execution_count": 25,
   "metadata": {},
   "outputs": [],
   "source": [
    "#create table query\n",
    "createQuery = 'CREATE Table INSTRUCTOR(INS_ID INTEGER PRIMARY KEY NOT NULL,LASTNAME VARCHAR(30),FIRSTNAME VARCHAR(30),CITY VARCHAR(30),COUNTRY CHAR(2));'\n",
    "createStmt = ibm_db.exec_immediate(conn, createQuery)"
   ]
  },
  {
   "cell_type": "code",
   "execution_count": 26,
   "metadata": {},
   "outputs": [],
   "source": [
    "#insert into table query\n",
    "insertQuery = \"INSERT INTO INSTRUCTOR(INS_ID, LASTNAME, FIRSTNAME, CITY, COUNTRY) VALUES ('1', 'Ahuja', 'Rav', 'Toronto', 'CA'), ('2', 'Chong', 'Raul', 'Toronto', 'CA'), ('3', 'Vasudevan', 'Hima', 'Chicago','US');\"\n",
    "insertStatement = ibm_db.exec_immediate(conn, insertQuery)"
   ]
  },
  {
   "cell_type": "code",
   "execution_count": 34,
   "metadata": {},
   "outputs": [
    {
     "data": {
      "text/plain": [
       "{'INS_ID': 1,\n",
       " 0: 1,\n",
       " 'LASTNAME': 'Ahuja',\n",
       " 1: 'Ahuja',\n",
       " 'FIRSTNAME': 'Rav',\n",
       " 2: 'Rav',\n",
       " 'CITY': 'Toronto',\n",
       " 3: 'Toronto',\n",
       " 'COUNTRY': 'CA',\n",
       " 4: 'CA'}"
      ]
     },
     "execution_count": 34,
     "metadata": {},
     "output_type": "execute_result"
    }
   ],
   "source": [
    "#fetching query 1\n",
    "\n",
    "selectQuery1 = 'SELECT * FROM INSTRUCTOR'\n",
    "selectQuery1_Stmt = ibm_db.exec_immediate(conn, selectQuery1)\n",
    "ibm_db.fetch_both(selectQuery1_Stmt) #COMMENT OUT TO SEE ALL ROWS IN THE NEXT CELL"
   ]
  },
  {
   "cell_type": "code",
   "execution_count": 35,
   "metadata": {},
   "outputs": [
    {
     "name": "stdout",
     "output_type": "stream",
     "text": [
      " ID: 2  FNAME: Raul  LNAME: Chong  CITY: Toronto  COUNTRY: CA\n",
      " ID: 3  FNAME: Hima  LNAME: Vasudevan  CITY: Chicago  COUNTRY: US\n"
     ]
    }
   ],
   "source": [
    "#fetching more rows\n",
    "\n",
    "while ibm_db.fetch_row(selectQuery1_Stmt)!=False:\n",
    "    print(\" ID:\",  ibm_db.result(selectQuery1_Stmt, 0), \n",
    "          \" FNAME:\",  ibm_db.result(selectQuery1_Stmt, \"FIRSTNAME\"), \n",
    "          \" LNAME:\",  ibm_db.result(selectQuery1_Stmt, \"LASTNAME\"), \n",
    "          \" CITY:\",  ibm_db.result(selectQuery1_Stmt, \"CITY\"), \n",
    "          \" COUNTRY:\",  ibm_db.result(selectQuery1_Stmt, \"COUNTRY\"))"
   ]
  },
  {
   "cell_type": "code",
   "execution_count": 39,
   "metadata": {},
   "outputs": [],
   "source": [
    "# making a show all function\n",
    "\n",
    "def showAll():\n",
    "    S = \"SELECT * FROM INSTRUCTOR\"\n",
    "    s = ibm_db.exec_immediate(conn, S)\n",
    "    while ibm_db.fetch_row(s)!=False:\n",
    "        print(\" ID:\",  ibm_db.result(s, 0), \n",
    "              \" FNAME:\",  ibm_db.result(s, \"FIRSTNAME\"), \n",
    "              \" LNAME:\",  ibm_db.result(s, \"LASTNAME\"), \n",
    "              \" CITY:\",  ibm_db.result(s, \"CITY\"), \n",
    "              \" COUNTRY:\",  ibm_db.result(s, \"COUNTRY\"))"
   ]
  },
  {
   "cell_type": "code",
   "execution_count": 40,
   "metadata": {},
   "outputs": [
    {
     "name": "stdout",
     "output_type": "stream",
     "text": [
      " ID: 1  FNAME: Rav  LNAME: Ahuja  CITY: Moosetown  COUNTRY: CA\n",
      " ID: 2  FNAME: Raul  LNAME: Chong  CITY: Toronto  COUNTRY: CA\n",
      " ID: 3  FNAME: Hima  LNAME: Vasudevan  CITY: Chicago  COUNTRY: US\n"
     ]
    }
   ],
   "source": [
    "# UPDATE DATA\n",
    "\n",
    "updateQuery = \"UPDATE INSTRUCTOR SET CITY = 'Moosetown' WHERE FIRSTNAME = 'Rav' AND LASTNAME = 'Ahuja';\"\n",
    "updateStmt = ibm_db.exec_immediate(conn, updateQuery)\n",
    "showAll()"
   ]
  },
  {
   "cell_type": "code",
   "execution_count": 43,
   "metadata": {},
   "outputs": [],
   "source": [
    "# Using Pandas to retrieve data\n",
    "import pandas\n",
    "import ibm_db_dbi"
   ]
  },
  {
   "cell_type": "code",
   "execution_count": 44,
   "metadata": {},
   "outputs": [],
   "source": [
    "#Connection formulation for pandas\n",
    "\n",
    "pconn = ibm_db_dbi.Connection(conn)"
   ]
  },
  {
   "cell_type": "code",
   "execution_count": 46,
   "metadata": {},
   "outputs": [
    {
     "name": "stdout",
     "output_type": "stream",
     "text": [
      "   INS_ID   LASTNAME FIRSTNAME       CITY COUNTRY\n",
      "0       1      Ahuja       Rav  Moosetown      CA\n",
      "1       2      Chong      Raul    Toronto      CA\n",
      "2       3  Vasudevan      Hima    Chicago      US\n"
     ]
    }
   ],
   "source": [
    "# making dataframe from selectQuery1\n",
    "df = pandas.read_sql(selectQuery1, pconn)\n",
    "print(df)"
   ]
  },
  {
   "cell_type": "code",
   "execution_count": 49,
   "metadata": {},
   "outputs": [
    {
     "name": "stdout",
     "output_type": "stream",
     "text": [
      "The shape of dataframe is =  (3, 5)\n",
      "Printing the LASTNAME column: \n",
      "0        Ahuja\n",
      "1        Chong\n",
      "2    Vasudevan\n",
      "Name: LASTNAME, dtype: object\n"
     ]
    }
   ],
   "source": [
    "# we can use all pandas methods on this dataframe\n",
    "\n",
    "print(\"The shape of dataframe is = \",df.shape)\n",
    "print(\"Printing the LASTNAME column: \")\n",
    "print(df.LASTNAME)"
   ]
  },
  {
   "cell_type": "code",
   "execution_count": 50,
   "metadata": {},
   "outputs": [
    {
     "data": {
      "text/plain": [
       "True"
      ]
     },
     "execution_count": 50,
     "metadata": {},
     "output_type": "execute_result"
    }
   ],
   "source": [
    "# closing the connection\n",
    "\n",
    "ibm_db.close(conn)"
   ]
  }
 ],
 "metadata": {
  "kernelspec": {
   "display_name": "Python 3",
   "language": "python",
   "name": "python3"
  },
  "language_info": {
   "codemirror_mode": {
    "name": "ipython",
    "version": 3
   },
   "file_extension": ".py",
   "mimetype": "text/x-python",
   "name": "python",
   "nbconvert_exporter": "python",
   "pygments_lexer": "ipython3",
   "version": "3.7.6"
  }
 },
 "nbformat": 4,
 "nbformat_minor": 4
}
